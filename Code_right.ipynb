{
 "cells": [
  {
   "cell_type": "markdown",
   "id": "1886d22b-32ef-4203-8595-8ba962b268ac",
   "metadata": {},
   "source": [
    "# LeetCode Solutions"
   ]
  },
  {
   "cell_type": "markdown",
   "id": "e5cbfe35-aa55-4cc4-9f40-846d29cb9a57",
   "metadata": {},
   "source": [
    " - Solved by Pugazhendhi Rathinasabapathy - https://leetcode.com/u/Pugazhendhi_Rathinasabapathy/ "
   ]
  },
  {
   "cell_type": "markdown",
   "id": "08f328d0-32bf-4c79-81d8-fb30286c330a",
   "metadata": {},
   "source": [
    "1. LeetCode 13 - Roman to Integer"
   ]
  },
  {
   "cell_type": "code",
   "execution_count": null,
   "id": "b4cd08f3-934c-4eae-80d9-8c597506386c",
   "metadata": {},
   "outputs": [],
   "source": [
    "class Solution:\n",
    "    def romanToInt(self, s: str) -> int:\n",
    "        sum = 0\n",
    "        dict = {\n",
    "            'I':1,\n",
    "            'V':5,\n",
    "            'X':10,\n",
    "            'L':50,\n",
    "            'C':100,\n",
    "            'D':500,\n",
    "            'M':1000,        \n",
    "        }\n",
    "        if len(s)<2:\n",
    "            return dict.get(s[0])\n",
    "\n",
    "        flag = False\n",
    "\n",
    "        for i in range(0,len(s)-1):\n",
    "\n",
    "            if flag:\n",
    "                flag = False\n",
    "                continue\n",
    "            if dict.get(s[i]) >= dict.get(s[i+1]) :\n",
    "                sum += dict.get(s[i])\n",
    "                if i == len(s)-2:\n",
    "                    sum+=dict.get(s[i+1])\n",
    "            else:\n",
    "                sum = sum+(dict.get(s[i+1]) - dict.get(s[i]))\n",
    "                flag = True\n",
    "                if i == len(s)-3:\n",
    "                    sum+=dict.get(s[i+2])\n",
    "        return sum"
   ]
  },
  {
   "cell_type": "markdown",
   "id": "49a6331b-179a-4279-bafa-443e3f8f52a5",
   "metadata": {},
   "source": [
    "2. LeetCode 12 - Integer To Roman"
   ]
  },
  {
   "cell_type": "code",
   "execution_count": null,
   "id": "b2050753-f094-4c61-a961-415c0f4c63cf",
   "metadata": {},
   "outputs": [],
   "source": [
    "class Solution:\n",
    "    def intToRoman(self, num: int) -> str:\n",
    "\n",
    "        dict = {\n",
    "            0:'',\n",
    "            1:'I',\n",
    "            5:'V',\n",
    "            10:'X',\n",
    "            50:'L',\n",
    "            100:'C',\n",
    "            500:'D',\n",
    "            1000:'M'\n",
    "        }\n",
    "        s=''\n",
    "        zum = num\n",
    "        val = 0\n",
    "        count = 0\n",
    "        result = []\n",
    "        final = ''\n",
    "        while(zum>0):\n",
    "            po = pow(10,count)\n",
    "            den = 5*po\n",
    "            val = (zum%10)*po\n",
    "            rem = val % den\n",
    "            rem = rem//po\n",
    "            div = val / den\n",
    "            zum = zum//10\n",
    "            count = count+1\n",
    "\n",
    "            if rem == 0:\n",
    "                result.append(dict.get(val))\n",
    "            elif rem == 1:\n",
    "                if div > 1:\n",
    "                    s=dict.get(den)\n",
    "                    result.append(s+dict.get(po))\n",
    "                else:\n",
    "                    result.append(dict.get(po))\n",
    "            elif rem == 2:\n",
    "                if div > 1:\n",
    "                    s=dict.get(den)\n",
    "                    result.append(s+dict.get(po)+dict.get(po))\n",
    "                else:\n",
    "                    result.append(dict.get(po)+dict.get(po))\n",
    "            elif rem == 3:\n",
    "                if div > 1:\n",
    "                    s=dict.get(den)\n",
    "                    result.append(s+dict.get(po)+dict.get(po)+dict.get(po))\n",
    "                else:\n",
    "                    result.append(dict.get(po)+dict.get(po)+dict.get(po))\n",
    "            else:\n",
    "                if div > 1:\n",
    "                    s = dict.get(den+den)\n",
    "                    result.append(dict.get(po)+s)\n",
    "                else:\n",
    "                    s = dict.get(den)\n",
    "                    result.append(dict.get(po)+s)\n",
    "            \n",
    "        \n",
    "        for i in reversed(result):\n",
    "            final = final + i\n",
    "        \n",
    "        return final"
   ]
  },
  {
   "cell_type": "markdown",
   "id": "1f6aaf1d-207e-4d01-a6c3-23ff8d4a91d2",
   "metadata": {},
   "source": [
    "3. LeetCode 7 - Reverse Integer "
   ]
  },
  {
   "cell_type": "code",
   "execution_count": null,
   "id": "0b8064c6-70de-4181-badd-75795226bc4f",
   "metadata": {},
   "outputs": [],
   "source": [
    "class Solution:\n",
    "    def reverse(self, x: int) -> int:\n",
    "\n",
    "        result = 0\n",
    "        flag = False\n",
    "        if x<0:\n",
    "            x=x*(-1)\n",
    "            flag = True\n",
    "        count = len(str(x))-1\n",
    "        while(x>0):\n",
    "            po = pow(10,count)\n",
    "            rem = x%10\n",
    "            x = x//10\n",
    "            result = result + (rem*po)\n",
    "            count=count-1\n",
    "\n",
    "        if flag:\n",
    "            result = result *(-1)\n",
    "        if result >= 2147483647 or result <= -2147483648:\n",
    "            result = 0\n",
    "        return result"
   ]
  },
  {
   "cell_type": "markdown",
   "id": "6dd90eef-b5e7-4bce-bf97-a5cb3d3e9c6c",
   "metadata": {},
   "source": [
    "4. Leetcode 20 - valid Parentheses "
   ]
  },
  {
   "cell_type": "code",
   "execution_count": null,
   "id": "b1909330-ce01-48c9-b53d-f644c64b157e",
   "metadata": {},
   "outputs": [],
   "source": [
    "class Solution:\n",
    "    def isValid(self, s: str) -> bool:\n",
    "        lis = list(s)\n",
    "        return self.checkList(lis)\n",
    "\n",
    "    def checkList(self, lis) -> bool:\n",
    "        if len(lis)%2 == 0:\n",
    "            i = 0\n",
    "            dic = {\n",
    "                '(':')',\n",
    "                '{':'}',\n",
    "                '[':']'\n",
    "            }\n",
    "            while(i<len(lis)):\n",
    "                if lis[i] in dic:\n",
    "                    if i == len(lis)-1:\n",
    "                        return False\n",
    "                    i += 1\n",
    "                elif i == 0:\n",
    "                    return False\n",
    "                else:\n",
    "                    if dic.get(lis[i-1]) == lis[i]:\n",
    "                        lis.pop(i)\n",
    "                        lis.pop(i-1)\n",
    "                        return self.checkList(lis)\n",
    "                    else:\n",
    "                        return False\n",
    "        else:\n",
    "            return False\n",
    "        return True"
   ]
  },
  {
   "cell_type": "markdown",
   "id": "d129e380-cb67-445e-82ce-d5765d32dce4",
   "metadata": {},
   "source": [
    "5. Leetcode 135 - Candy"
   ]
  },
  {
   "cell_type": "code",
   "execution_count": null,
   "id": "72bb21f6-1a8c-410d-96ec-375731cf7103",
   "metadata": {},
   "outputs": [],
   "source": [
    "def candy(self, ratings) -> int:\n",
    "    n = len(ratings)\n",
    "    c = [1] * n\n",
    "\n",
    "    if n==1:\n",
    "        return 1\n",
    "\n",
    "    if ratings[0]>ratings[1]:\n",
    "        c[0] = c[0]+c[1]\n",
    "\n",
    "    for i in range(1,n-1):\n",
    "        j = i\n",
    "        if ratings[i]>ratings[i-1]:\n",
    "            c[i] = c[i-1]+1\n",
    "        elif ratings[i]>ratings[i+1]:\n",
    "            c[i] = c[i]+1\n",
    "        while ratings[j-1]>ratings[j] and c[j] == c[j-1]:\n",
    "            c[j-1] = c[j-1]+1\n",
    "            j = j-1\n",
    "    \n",
    "    if ratings[n-1] > ratings[n-2]:\n",
    "        c[n-1] = c[n-1] + c[n-2]\n",
    "    \n",
    "    return sum(c)\n",
    "\n",
    "        "
   ]
  },
  {
   "cell_type": "markdown",
   "id": "6a077217-fe25-4457-8fa1-d107772cd3e4",
   "metadata": {},
   "source": [
    "6. Leetcode 65 - Valid number "
   ]
  },
  {
   "cell_type": "code",
   "execution_count": null,
   "id": "d14368d6-fc1a-4081-b9fb-e7f23f340c4b",
   "metadata": {},
   "outputs": [],
   "source": [
    "class Solution:\n",
    "    def isNumber(self, s: str) -> bool:\n",
    "        \n",
    "        if s.isnumeric():\n",
    "            return True\n",
    "        elif 'inf' in s.lower() or 'nan' in s:\n",
    "            return False\n",
    "        else:\n",
    "            try:\n",
    "                f=float(s)\n",
    "            except:\n",
    "                return False\n",
    "            else:\n",
    "                return True"
   ]
  },
  {
   "cell_type": "markdown",
   "id": "150bfd3a",
   "metadata": {},
   "source": [
    "7. LeetCode 200 - Number of Islands "
   ]
  },
  {
   "cell_type": "code",
   "execution_count": null,
   "id": "180fd04c",
   "metadata": {},
   "outputs": [],
   "source": [
    "class Solution:\n",
    "    def numIslands(self, grid: List[List[str]]) -> int:\n",
    "\n",
    "        r, c = len(grid), len(grid[0])\n",
    "        count = 0\n",
    "\n",
    "        def dfs(i,j):\n",
    "            if i<0 or j<0 or i>=len(grid) or j>=len(grid[0]) or grid[i][j]=='0':\n",
    "                return \n",
    "            \n",
    "            grid[i][j] = '0'\n",
    "\n",
    "            dfs(i-1,j)\n",
    "            dfs(i+1,j)\n",
    "            dfs(i,j-1)\n",
    "            dfs(i,j+1)\n",
    "        for i in range(r):\n",
    "            for j in range(c):\n",
    "                if grid[i][j] == '1':\n",
    "                    count += 1\n",
    "                    dfs(i,j)\n",
    "                    \n",
    "        return count\n",
    "\n",
    "\n",
    "        "
   ]
  },
  {
   "cell_type": "markdown",
   "id": "2c68e35a",
   "metadata": {},
   "source": [
    "8. LeetCode 733 - Flood Fill"
   ]
  },
  {
   "cell_type": "code",
   "execution_count": null,
   "id": "32013cf6",
   "metadata": {},
   "outputs": [],
   "source": [
    "class Solution:\n",
    "    def floodFill(self, image: List[List[int]], sr: int, sc: int, color: int) -> List[List[int]]:\n",
    "        value = image[sr][sc]\n",
    "        r,c = len(image),len(image[0])\n",
    "        if value == color:\n",
    "            return image\n",
    "        \n",
    "        def dfs(i,j):\n",
    "            if i<0 or j<0 or i>=r or j>=c or image[i][j]!= value or image[i][j]==color:\n",
    "                return\n",
    "                            \n",
    "            image[i][j] = color \n",
    "\n",
    "            dfs(i+1,j)\n",
    "            dfs(i-1,j)\n",
    "            dfs(i,j+1)\n",
    "            dfs(i,j-1)\n",
    "        \n",
    "        dfs(sr,sc)\n",
    "        return image\n",
    "\n",
    "        "
   ]
  },
  {
   "cell_type": "markdown",
   "id": "393a22d7",
   "metadata": {},
   "source": [
    "9. LeetCode 4 - Median of Sorted Arrays"
   ]
  },
  {
   "cell_type": "code",
   "execution_count": null,
   "id": "f472d50d",
   "metadata": {},
   "outputs": [],
   "source": [
    "class Solution:\n",
    "    def findMedianSortedArrays(self, nums1: List[int], nums2: List[int]) -> float:\n",
    "\n",
    "        n1 , n2 = len(nums1) , len(nums2)\n",
    "        k = n1 + n2\n",
    "        l = []\n",
    "        i=0\n",
    "        j=0\n",
    "        flag = 0\n",
    "        if n1 == 0 and n2 == 0:\n",
    "            return 0.0\n",
    "        elif n1==0:\n",
    "            l = nums2\n",
    "            flag = 1\n",
    "        elif n2 == 0:\n",
    "            l = nums1\n",
    "            flag = 1\n",
    "        else:\n",
    "            for _ in range((k//2)+1):\n",
    "                if i>=n1:\n",
    "                    l.append(nums2[j])\n",
    "                    j += 1\n",
    "                    continue\n",
    "                if j>=n2:\n",
    "                    l.append(nums1[i])\n",
    "                    i += 1\n",
    "                    continue\n",
    "                if nums1[i]>=nums2[j]:\n",
    "                    l.append(nums2[j])\n",
    "                    j += 1\n",
    "                else:\n",
    "                    l.append(nums1[i])\n",
    "                    i += 1\n",
    "        z = len(l)\n",
    "        if k%2 != 0 and z!=1:\n",
    "            if flag:\n",
    "                return float(l[z//2])\n",
    "            else:\n",
    "                return float(l[-1])\n",
    "        elif z == 1:\n",
    "            return float(l[0])\n",
    "        else:\n",
    "            if flag:\n",
    "                return (l[z//2]+l[(z//2)-1])/2\n",
    "            else:\n",
    "                return (l[-1]+l[-2])/2\n",
    "\n",
    "\n",
    "        return 0.0"
   ]
  },
  {
   "cell_type": "markdown",
   "id": "45718aa8",
   "metadata": {},
   "source": [
    "10. LeetCode 21 - Merge Two Sorted Lists"
   ]
  },
  {
   "cell_type": "code",
   "execution_count": null,
   "id": "268b9619",
   "metadata": {},
   "outputs": [],
   "source": [
    "# Definition for singly-linked list.\n",
    "# class ListNode:\n",
    "#     def __init__(self, val=0, next=None):\n",
    "#         self.val = val\n",
    "#         self.next = next\n",
    "class Solution:\n",
    "    def mergeTwoLists(self, list1: Optional[ListNode], list2: Optional[ListNode]) -> Optional[ListNode]:\n",
    "        \n",
    "        if not list1:\n",
    "            return list2\n",
    "        if not list2:\n",
    "            return list1\n",
    "\n",
    "        if list1.val<=list2.val:\n",
    "            list1.next = self.mergeTwoLists(list1.next,list2)\n",
    "            return list1\n",
    "        else:\n",
    "            list2.next = self.mergeTwoLists(list1,list2.next)\n",
    "            return list2\n",
    "\n",
    "\n",
    "        "
   ]
  },
  {
   "cell_type": "markdown",
   "id": "167309d9",
   "metadata": {},
   "source": [
    "11. Leetcode 14 - Longest Common Prefix"
   ]
  },
  {
   "cell_type": "code",
   "execution_count": null,
   "id": "eba3d9a0",
   "metadata": {},
   "outputs": [],
   "source": [
    "class Solution:\n",
    "    def longestCommonPrefix(self, strs: List[str]) -> str:\n",
    "        \n",
    "        if not strs:\n",
    "            return \"\"\n",
    "        s=strs[0]\n",
    "        if len(strs)==1:\n",
    "            return s\n",
    "        n = len(strs)-1\n",
    "        def check_str(s,s1,n):\n",
    "            if (n<0) or (s==\"\"):\n",
    "                return s\n",
    "            if s1==\"\":\n",
    "                return \"\"\n",
    "            ans=\"\"\n",
    "            leng = min(len(s),len(s1))\n",
    "            for i in range(leng):\n",
    "                if s[i]==s1[i]:\n",
    "                    ans = ans+s[i]\n",
    "                else:\n",
    "                    break\n",
    "            return check_str(ans,strs[n],n-1)\n",
    "\n",
    "        return check_str(s,strs[1],n)"
   ]
  },
  {
   "cell_type": "markdown",
   "id": "20d22fb7",
   "metadata": {},
   "source": [
    "12. Leetcode 28 -  Find the Index of the First Occurrence in a String"
   ]
  },
  {
   "cell_type": "code",
   "execution_count": null,
   "id": "e72823c2",
   "metadata": {},
   "outputs": [],
   "source": [
    "class Solution:\n",
    "    def strStr(self, haystack: str, needle: str) -> int:\n",
    "        if needle not in haystack:\n",
    "            return -1\n",
    "        else:\n",
    "            return haystack.index(needle)\n",
    "        "
   ]
  }
 ],
 "metadata": {
  "kernelspec": {
   "display_name": "Python [conda env:base] *",
   "language": "python",
   "name": "conda-base-py"
  },
  "language_info": {
   "codemirror_mode": {
    "name": "ipython",
    "version": 3
   },
   "file_extension": ".py",
   "mimetype": "text/x-python",
   "name": "python",
   "nbconvert_exporter": "python",
   "pygments_lexer": "ipython3",
   "version": "3.12.7"
  }
 },
 "nbformat": 4,
 "nbformat_minor": 5
}
